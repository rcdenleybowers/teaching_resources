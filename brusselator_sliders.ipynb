{
 "cells": [
  {
   "cell_type": "code",
   "execution_count": 6,
   "metadata": {},
   "outputs": [],
   "source": [
    "%matplotlib inline\n"
   ]
  },
  {
   "cell_type": "code",
   "execution_count": 7,
   "metadata": {},
   "outputs": [],
   "source": [
    "import ipywidgets as widgets\n",
    "import numpy as np\n",
    "import matplotlib.pyplot as plt\n",
    "from matplotlib.widgets import Slider, Button, RadioButtons\n",
    "from scipy.integrate import ode"
   ]
  },
  {
   "cell_type": "code",
   "execution_count": 8,
   "metadata": {},
   "outputs": [],
   "source": [
    "def brusselator(t, u, a, b):\n",
    "    x = u[0]\n",
    "    y = u[1]\n",
    "    dxdt = 1 - (b+1)*x + a*x*x*y\n",
    "    dydt = b*x - a*x*x*y\n",
    "    return np.array([dxdt,dydt])"
   ]
  },
  {
   "cell_type": "code",
   "execution_count": 9,
   "metadata": {},
   "outputs": [],
   "source": [
    "x0,y0 = 0,0\n",
    "tmax = 300\n",
    "deltat = 0.1\n",
    "a = 1"
   ]
  },
  {
   "cell_type": "code",
   "execution_count": 10,
   "metadata": {},
   "outputs": [],
   "source": [
    "def simbrusselator(b):\n",
    "    r = ode(brusselator)\n",
    "    r.set_initial_value(np.array([x0,y0])).set_f_params(a,b)\n",
    "    Ylist = [r.y]\n",
    "    Tlist = [r.t]\n",
    "    while r.successful() and r.t<tmax:\n",
    "        Ylist.append(r.integrate(r.t+deltat))\n",
    "        Tlist.append(r.t)\n",
    "    Y = np.array(Ylist)\n",
    "    T = np.array(Tlist)\n",
    "\n",
    "    return T, Y"
   ]
  },
  {
   "cell_type": "code",
   "execution_count": 18,
   "metadata": {},
   "outputs": [
    {
     "data": {
      "image/png": "[encoded data removed]",
      "text/plain": [
       "<Figure size 432x288 with 4 Axes>"
      ]
     },
     "metadata": {
      "needs_background": "light"
     },
     "output_type": "display_data"
    }
   ],
   "source": [
    "fig, ax = plt.subplots()\n",
    "plt.subplots_adjust(left=0.25, bottom=0.25)\n",
    "t = np.arange(0.0, 1.0, 0.001)\n",
    "b0 = 1.5\n",
    "delta_b = 0.01\n",
    "\n",
    "\n",
    "T, Y = simbrusselator(b0)\n",
    "\n",
    "l, = plt.plot(Y[:,0], Y[:,1])\n",
    "ax.set_xlim(0,3)\n",
    "ax.set_ylim(0,4)\n",
    "ax.margins(x=0)\n",
    "\n",
    "axcolor = 'lightgoldenrodyellow'\n",
    "axb = plt.axes([0.25, 0.1, 0.65, 0.03], facecolor=axcolor)\n",
    "#axamp = plt.axes([0.25, 0.15, 0.65, 0.03], facecolor=axcolor)\n",
    "\n",
    "sliderb = Slider(axb, 'b', 1, 3, valinit=b0, valstep=delta_b)\n",
    "#samp = Slider(axamp, 'Amp', 0.1, 10.0, valinit=a0)\n",
    "\n",
    "\n",
    "def update(val):\n",
    "    b = sliderb.val\n",
    "    T, Y = simbrusselator(b)\n",
    "    l.set_xdata(Y[:,0])\n",
    "    l.set_ydata(Y[:,1])\n",
    "    fig.canvas.draw_idle()\n",
    "\n",
    "\n",
    "sliderb.on_changed(update)\n",
    "#samp.on_changed(update)\n",
    "\n",
    "resetax = plt.axes([0.8, 0.025, 0.1, 0.04])\n",
    "button = Button(resetax, 'Reset', color=axcolor, hovercolor='0.975')\n",
    "\n",
    "\n",
    "def reset(event):\n",
    "    sliderb.reset()\n",
    "    #samp.reset()\n",
    "button.on_clicked(reset)\n",
    "\n",
    "rax = plt.axes([0.025, 0.5, 0.15, 0.15], facecolor=axcolor)\n",
    "radio = RadioButtons(rax, ('red', 'blue', 'green'), active=0)\n",
    "\n",
    "\n",
    "def colorfunc(label):\n",
    "    l.set_color(label)\n",
    "    fig.canvas.draw_idle()\n",
    "radio.on_clicked(colorfunc)\n",
    "\n",
    "# Initialize plot with correct initial active value\n",
    "colorfunc(radio.value_selected)\n",
    "\n",
    "plt.show()"
   ]
  },
  {
   "cell_type": "code",
   "execution_count": null,
   "metadata": {},
   "outputs": [],
   "source": []
  }
 ],
 "metadata": {
  "kernelspec": {
   "display_name": "Python 3",
   "language": "python",
   "name": "python3"
  },
  "language_info": {
   "codemirror_mode": {
    "name": "ipython",
    "version": 3
   },
   "file_extension": ".py",
   "mimetype": "text/x-python",
   "name": "python",
   "nbconvert_exporter": "python",
   "pygments_lexer": "ipython3",
   "version": "3.7.4"
  }
 },
 "nbformat": 4,
 "nbformat_minor": 4
}
